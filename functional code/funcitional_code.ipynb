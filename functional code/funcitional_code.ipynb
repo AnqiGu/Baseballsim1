{
 "cells": [
  {
   "cell_type": "code",
   "execution_count": null,
   "id": "36ffa4f4-c92c-4970-852a-eba2b81f8776",
   "metadata": {},
   "outputs": [],
   "source": []
  }
 ],
 "metadata": {
  "kernelspec": {
   "display_name": "",
   "name": ""
  },
  "language_info": {
   "name": ""
  }
 },
 "nbformat": 4,
 "nbformat_minor": 5
}
