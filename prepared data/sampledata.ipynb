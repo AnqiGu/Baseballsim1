{
 "cells": [
  {
   "cell_type": "code",
   "execution_count": null,
   "id": "0fa09192-cf9c-4621-84df-99d4e63db229",
   "metadata": {},
   "outputs": [],
   "source": []
  }
 ],
 "metadata": {
  "kernelspec": {
   "display_name": "",
   "name": ""
  },
  "language_info": {
   "name": ""
  }
 },
 "nbformat": 4,
 "nbformat_minor": 5
}
