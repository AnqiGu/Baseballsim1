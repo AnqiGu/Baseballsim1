{
 "cells": [
  {
   "cell_type": "code",
   "execution_count": null,
   "id": "b73da97c-3745-485c-a6f6-96ce97286fe9",
   "metadata": {},
   "outputs": [],
   "source": []
  }
 ],
 "metadata": {
  "kernelspec": {
   "display_name": "",
   "name": ""
  },
  "language_info": {
   "name": ""
  }
 },
 "nbformat": 4,
 "nbformat_minor": 5
}
